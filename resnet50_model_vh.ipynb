{
 "cells": [
  {
   "cell_type": "code",
   "execution_count": null,
   "metadata": {
    "colab": {},
    "colab_type": "code",
    "id": "J44lt-kkzn5R"
   },
   "outputs": [],
   "source": [
    "# standard imports \n",
    "import numpy as np\n",
    "import pandas as pd\n",
    "import matplotlib.pyplot as plt\n",
    "%matplotlib inline\n",
    "\n",
    "# Keras Imports\n",
    "import keras \n",
    "import os, glob\n",
    "import io\n",
    "\n",
    "from keras.layers import Dense, Conv2D, MaxPooling2D, Flatten, Dropout, GlobalAveragePooling2D\n",
    "from keras.models import Model, load_model\n",
    "from keras.optimizers import Adam\n",
    "from keras.callbacks import TensorBoard\n",
    "from keras.applications import ResNet50\n",
    "from keras.applications import ResNet50V2\n",
    "from keras.applications.resnet_v2 import preprocess_input  \n",
    "from keras.preprocessing.image import img_to_array, array_to_img\n",
    "from keras.utils import to_categorical\n",
    "\n",
    "# pandas style\n",
    "pd.set_option('display.max_rows', 200)\n",
    "pd.set_option('display.max_columns', 200)"
   ]
  },
  {
   "cell_type": "markdown",
   "metadata": {
    "colab_type": "text",
    "id": "zdcaX_NKanhz"
   },
   "source": [
    "1. Create Train and Test "
   ]
  },
  {
   "cell_type": "code",
   "execution_count": null,
   "metadata": {
    "colab": {
     "base_uri": "https://localhost:8080/",
     "height": 34
    },
    "colab_type": "code",
    "id": "wc3TbPWACDi7",
    "outputId": "91abf955-372e-49d6-f803-19c3f0ea7ae6"
   },
   "outputs": [],
   "source": [
    "test = pd.read_csv('../data/fashion-mnist_test.csv')\n",
    "test.shape"
   ]
  },
  {
   "cell_type": "code",
   "execution_count": null,
   "metadata": {
    "colab": {
     "base_uri": "https://localhost:8080/",
     "height": 34
    },
    "colab_type": "code",
    "id": "i-KTnw92CDo6",
    "outputId": "2ce74589-9246-4344-e97e-83ba9f8b49f3"
   },
   "outputs": [],
   "source": [
    "train = pd.read_csv('../data/fashion-mnist_train.csv')\n",
    "train.shape"
   ]
  },
  {
   "cell_type": "code",
   "execution_count": null,
   "metadata": {
    "colab": {},
    "colab_type": "code",
    "id": "dhg_yxctRXxQ"
   },
   "outputs": [],
   "source": [
    "image_rows = 28\n",
    "image_cols = 28 \n",
    "num_classes = 10 "
   ]
  },
  {
   "cell_type": "code",
   "execution_count": null,
   "metadata": {
    "colab": {
     "base_uri": "https://localhost:8080/",
     "height": 34
    },
    "colab_type": "code",
    "id": "p8HBWDGoTEhe",
    "outputId": "506f3f5c-079c-47e5-a5aa-82092d932798"
   },
   "outputs": [],
   "source": [
    "# grab the train and test and split it up \n",
    "X_train = train.drop('label', axis=1)\n",
    "y_train = train.loc[:, 'label']\n",
    "\n",
    "X_test = test.drop('label', axis=1)\n",
    "y_test = test.loc[:, 'label']\n",
    "X_train.shape, y_train.shape, X_test.shape, y_test.shape"
   ]
  },
  {
   "cell_type": "code",
   "execution_count": null,
   "metadata": {
    "colab": {
     "base_uri": "https://localhost:8080/",
     "height": 34
    },
    "colab_type": "code",
    "id": "7n-RaSHMTHXz",
    "outputId": "43641cc5-6b3e-41e4-e5ad-983ce7d35e2a"
   },
   "outputs": [],
   "source": [
    "# Standardize the X_train and X_test\n",
    "X_train = X_train.astype('float32')/255\n",
    "X_test = X_test.astype('float32')/255\n",
    "X_train.shape, X_test.shape"
   ]
  },
  {
   "cell_type": "code",
   "execution_count": null,
   "metadata": {
    "colab": {
     "base_uri": "https://localhost:8080/",
     "height": 34
    },
    "colab_type": "code",
    "id": "AUncDG-wCDxs",
    "outputId": "802c99bb-3867-4b99-c4cb-31685ed3a222"
   },
   "outputs": [],
   "source": [
    "# change to 3 input channels (possibly do not need this for resnet)\n",
    "X_train_resnet = np.dstack([X_train] * 3)\n",
    "X_test_resnet = np.dstack([X_test]*3)\n",
    "X_train_resnet.shape, X_test_resnet.shape\n"
   ]
  },
  {
   "cell_type": "code",
   "execution_count": null,
   "metadata": {
    "colab": {
     "base_uri": "https://localhost:8080/",
     "height": 34
    },
    "colab_type": "code",
    "id": "Ts5IK6rDWpkn",
    "outputId": "727a4c7e-5847-490e-b2d8-be2384163b0b"
   },
   "outputs": [],
   "source": [
    "# reshape the images\n",
    "X_train_resnet = X_train_resnet.reshape(-1, 28,28,3)\n",
    "X_test_resnet = X_test_resnet.reshape(-1, 28,28,3)\n",
    "X_train_resnet.shape, X_test_resnet.shape\n"
   ]
  },
  {
   "cell_type": "code",
   "execution_count": null,
   "metadata": {
    "colab": {
     "base_uri": "https://localhost:8080/",
     "height": 34
    },
    "colab_type": "code",
    "id": "nNn_Hz6FCD01",
    "outputId": "3a2bbf1c-b98d-4eac-badf-0891736c18a8"
   },
   "outputs": [],
   "source": [
    "# Resize the images width and height\n",
    "X_train_resnet = np.asarray([img_to_array(array_to_img(image_x, scale=False).resize((32,32))) for image_x in X_train_resnet])\n",
    "X_test_resnet = np.asarray([img_to_array(array_to_img(image_x, scale=False).resize((32,32))) for image_x in X_test_resnet])\n",
    "\n",
    "#train_x = preprocess_input(x)\n",
    "print(X_train_resnet.shape, X_test_resnet.shape)"
   ]
  },
  {
   "cell_type": "code",
   "execution_count": null,
   "metadata": {
    "colab": {
     "base_uri": "https://localhost:8080/",
     "height": 34
    },
    "colab_type": "code",
    "id": "Vk4n2PljCD4a",
    "outputId": "c9757f06-723e-4868-dc4f-ee738711a5f5"
   },
   "outputs": [],
   "source": [
    "#input image dimensions\n",
    "input_shape = X_train_resnet.shape[1:]\n",
    "input_shape"
   ]
  },
  {
   "cell_type": "code",
   "execution_count": null,
   "metadata": {
    "colab": {
     "base_uri": "https://localhost:8080/",
     "height": 34
    },
    "colab_type": "code",
    "id": "3qEFlbLKcg5T",
    "outputId": "19d356ae-0203-4ec3-b157-b387e70cf7ca"
   },
   "outputs": [],
   "source": [
    "# convert class vectors to binary class matrices using one hot encoding \n",
    "y_train_resnet = to_categorical(y_train, num_classes)\n",
    "y_test_resnet = to_categorical(y_test, num_classes)\n",
    "y_train_resnet.shape, y_test_resnet.shape"
   ]
  },
  {
   "cell_type": "code",
   "execution_count": null,
   "metadata": {
    "colab": {
     "base_uri": "https://localhost:8080/",
     "height": 34
    },
    "colab_type": "code",
    "id": "4D2IHhzbCD74",
    "outputId": "4bbe30a7-4cde-45b1-e7e4-929ccaa2bf1c"
   },
   "outputs": [],
   "source": [
    "# checked and the pixels are switched to categorical \n",
    "#y_train[:1]"
   ]
  },
  {
   "cell_type": "code",
   "execution_count": null,
   "metadata": {
    "colab": {},
    "colab_type": "code",
    "id": "DBurNF0roScP"
   },
   "outputs": [],
   "source": [
    "# preprocessing inputs \n",
    "X_train_resV2_pp = preprocess_input(X_train_resnet)\n",
    "X_test_resV2_pp = preprocess_input(X_test_resnet)\n",
    "X_train_resV2_pp.shape, X_test_resV2_pp.shape"
   ]
  },
  {
   "cell_type": "markdown",
   "metadata": {
    "colab_type": "text",
    "id": "KKe5FwPq3gKY"
   },
   "source": []
  },
  {
   "cell_type": "markdown",
   "metadata": {
    "colab_type": "text",
    "id": "etkvTUdEhyAz"
   },
   "source": [
    "2. Build Model"
   ]
  },
  {
   "cell_type": "code",
   "execution_count": null,
   "metadata": {
    "colab": {
     "base_uri": "https://localhost:8080/",
     "height": 85
    },
    "colab_type": "code",
    "id": "LHtC7TBKh1Vu",
    "outputId": "fc74bcbc-5281-424d-8a07-d97faf118ef5"
   },
   "outputs": [],
   "source": [
    "# bringing in the resnet50 model\n",
    "resnet50_base_model = ResNet50(weights = 'imagenet', \n",
    "                          input_shape = input_shape, include_top = False)\n",
    "resnet50_base_model.summary()"
   ]
  },
  {
   "cell_type": "code",
   "execution_count": null,
   "metadata": {
    "colab": {},
    "colab_type": "code",
    "id": "MiHIQQVO4s27"
   },
   "outputs": [],
   "source": [
    "# grab the output layer \n",
    "x = resnet50_base_model.output\n",
    "\n",
    "# extend the layer \n",
    "x = AveragePooling2D(pool_size = )(x)\n",
    "\n",
    "# fully - connected layer \n",
    "x = Dense(units = 1024, activation='relu')(x)\n",
    "\n",
    "# add final Dense layer with units = # classes (is the ouput layer)\n",
    "predictions = Dense(units = 10, activation = 'softmax')(x)"
   ]
  },
  {
   "cell_type": "code",
   "execution_count": null,
   "metadata": {
    "colab": {},
    "colab_type": "code",
    "id": "QxxlEhxO54OV"
   },
   "outputs": [],
   "source": [
    "# build the final resnet model \n",
    "resnet50_final = Model(inputs = resnet50_base_model.input, outputs = predictions)"
   ]
  },
  {
   "cell_type": "code",
   "execution_count": null,
   "metadata": {
    "colab": {},
    "colab_type": "code",
    "id": "WieqDH606T7x"
   },
   "outputs": [],
   "source": [
    "# freeze the layes in the base model because we dont want to retrain them \n",
    "for layer in resnet50_base_model.layers:\n",
    "    layer.trainable = False"
   ]
  },
  {
   "cell_type": "code",
   "execution_count": null,
   "metadata": {
    "colab": {},
    "colab_type": "code",
    "id": "V1-srmcRlpPh"
   },
   "outputs": [],
   "source": [
    "# compile the final model\n",
    "resnet50_final.compile(optimizer='adam', \n",
    "                       loss='categorical_crossentropy', metrics=['accuracy'])\n"
   ]
  },
  {
   "cell_type": "code",
   "execution_count": null,
   "metadata": {
    "colab": {},
    "colab_type": "code",
    "id": "OkPJiq1I2Cnm"
   },
   "outputs": [],
   "source": [
    "# create summary image of model\n",
    "#keras.utils.plot_model(resnet50_final, \"resnet_final_model.png\", show_shapes=True)"
   ]
  },
  {
   "cell_type": "markdown",
   "metadata": {},
   "source": [
    "3. Fit the Model"
   ]
  },
  {
   "cell_type": "code",
   "execution_count": null,
   "metadata": {
    "colab": {},
    "colab_type": "code",
    "id": "3AzNRwU_mSXI"
   },
   "outputs": [],
   "source": [
    "# fit the model \n",
    "batch_size = 32\n",
    "epochs = 100\n",
    "hist = resnet50_final.fit(X_train_resV2_pp, y_train_resnet, batch_size=batch_size, epochs=epochs)"
   ]
  },
  {
   "cell_type": "code",
   "execution_count": null,
   "metadata": {
    "colab": {},
    "colab_type": "code",
    "id": "gB4iQ2tM7sqA"
   },
   "outputs": [],
   "source": [
    "# save the model \n",
    "resnet50_final.save('resnet50_final_may30_v2')"
   ]
  },
  {
   "cell_type": "code",
   "execution_count": null,
   "metadata": {
    "colab": {},
    "colab_type": "code",
    "id": "4oMzSNR7y_hA"
   },
   "outputs": [],
   "source": [
    "# score the model \n",
    "scores = resnet50_final.evaluate(X_test_resV2_pp, y_test_resnet, verbose=1)\n",
    "print('Test loss:', scores[0])\n",
    "print('Test accuracy:', scores[1])"
   ]
  },
  {
   "cell_type": "code",
   "execution_count": null,
   "metadata": {
    "colab": {},
    "colab_type": "code",
    "id": "rGWggkFv_tF3"
   },
   "outputs": [],
   "source": [
    "# generate the predictions of the model \n",
    "preds_resnet50_final = resnet50_final.predict(X_test_resV2_pp)"
   ]
  },
  {
   "cell_type": "code",
   "execution_count": null,
   "metadata": {
    "colab": {},
    "colab_type": "code",
    "id": "-P9h5ejOy_Zt"
   },
   "outputs": [],
   "source": [
    "# plot the models history \n",
    "history_dict = hist.history\n",
    "loss_values = history_dict['loss']\n",
    "val_loss_values = history_dict['val_loss']\n",
    "acc_values = history_dict['acc']\n",
    "val_acc_values = history_dict['val_acc']\n",
    "epochs = range(1, len(val_loss_values) + 1)\n",
    "\n",
    "plt.subplot(211)\n",
    "plt.plot(epochs, hist.history['loss'], 'ro', label='Training loss')\n",
    "plt.plot(epochs, val_loss_values, 'b', label='Test loss')\n",
    "plt.title('Training and test loss')\n",
    "plt.xlabel('Epochs')\n",
    "plt.ylabel('Loss')\n",
    "plt.legend()\n",
    "plt.grid('off')\n",
    "plt.show()\n",
    "plt.subplot(212)\n",
    "plt.plot(epochs, hist.history['acc'], 'ro', label='Training accuracy')\n",
    "plt.plot(epochs, val_acc_values, 'b', label='Test accuracy')\n",
    "plt.title('Training and test accuracy')\n",
    "plt.xlabel('Epochs')\n",
    "plt.ylabel('Accuracy')\n",
    "plt.gca().set_yticklabels(['{:.0f}%'.format(x*100) for x in plt.gca().get_yticks()]) \n",
    "plt.legend()\n",
    "plt.grid('off')\n",
    "plt.show()"
   ]
  },
  {
   "cell_type": "code",
   "execution_count": null,
   "metadata": {
    "colab": {},
    "colab_type": "code",
    "id": "x7JKx80Wy_K6"
   },
   "outputs": [],
   "source": []
  }
 ],
 "metadata": {
  "colab": {
   "collapsed_sections": [],
   "name": "resnet_vh.ipynb",
   "provenance": []
  },
  "kernelspec": {
   "display_name": "Python 3",
   "language": "python",
   "name": "python3"
  },
  "language_info": {
   "codemirror_mode": {
    "name": "ipython",
    "version": 3
   },
   "file_extension": ".py",
   "mimetype": "text/x-python",
   "name": "python",
   "nbconvert_exporter": "python",
   "pygments_lexer": "ipython3",
   "version": "3.7.3"
  },
  "pycharm": {
   "stem_cell": {
    "cell_type": "raw",
    "metadata": {
     "collapsed": false
    },
    "source": []
   }
  }
 },
 "nbformat": 4,
 "nbformat_minor": 1
}
